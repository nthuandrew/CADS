{
 "cells": [
  {
   "cell_type": "code",
   "execution_count": 1,
   "metadata": {},
   "outputs": [
    {
     "name": "stdout",
     "output_type": "stream",
     "text": [
      "Index(['TextID', 'Title', 'Crisis_Level'], dtype='object')\n",
      "[672, 95, 200, 457]\n"
     ]
    },
    {
     "name": "stderr",
     "output_type": "stream",
     "text": [
      "/tmp/ipykernel_44257/4201800360.py:14: SettingWithCopyWarning: \n",
      "A value is trying to be set on a copy of a slice from a DataFrame\n",
      "\n",
      "See the caveats in the documentation: https://pandas.pydata.org/pandas-docs/stable/user_guide/indexing.html#returning-a-view-versus-a-copy\n",
      "  df['TextID'][idx] = str(val)\n",
      "/tmp/ipykernel_44257/4201800360.py:27: SettingWithCopyWarning: \n",
      "A value is trying to be set on a copy of a slice from a DataFrame\n",
      "\n",
      "See the caveats in the documentation: https://pandas.pydata.org/pandas-docs/stable/user_guide/indexing.html#returning-a-view-versus-a-copy\n",
      "  s_df['TextID'][idx] = str(val)\n"
     ]
    },
    {
     "name": "stdout",
     "output_type": "stream",
     "text": [
      "Index(['無標註', '自殺與憂鬱', '無助或無望', '正向文字', '其他負向文字', '生理反應或醫療狀況', '自殺行為', '其他類型',\n",
      "       'label', 'Crisis_Level', 'TextID'],\n",
      "      dtype='object')\n"
     ]
    }
   ],
   "source": [
    "\n",
    "import torch\n",
    "import pandas as pd\n",
    "device = torch.device('cuda' if torch.cuda.is_available() else 'cpu')\n",
    "import numpy as np\n",
    "label_path = 'data/article/網路危機_A1_文章危機程度.xlsx'\n",
    "# label_path = 'data/article/partial_A1_article.xlsx'\n",
    "df = pd.read_excel(label_path)\n",
    "df = df[['TextID','Title','Crisis_Level']]\n",
    "print(df.columns)\n",
    "# print(df)\n",
    "\n",
    "for idx, val in enumerate(df['TextID']):\n",
    "    if type(val) != str:\n",
    "        df['TextID'][idx] = str(val)\n",
    "stat = [0]*4\n",
    "for idx, val in enumerate(df['Crisis_Level']):\n",
    "    stat[val] += 1\n",
    "print(stat)\n",
    "four_label = df.values\n",
    "title_list = df['Title'].values\n",
    "textID_list = df['TextID'].values\n",
    "sentence_path = 'data/raw/new_clean_data_all.xlsx'\n",
    "s_df = pd.read_excel(sentence_path)[[ 'TextID','Title', 'Sentence', '無標註', '自殺與憂鬱',\n",
    "       '無助或無望', '正向文字', '其他負向文字', '生理反應或醫療狀況', '自殺行為']]\n",
    "for idx, val in enumerate(s_df['TextID']):\n",
    "    if type(val) != str:\n",
    "        s_df['TextID'][idx] = str(val)\n",
    "\n",
    "sentence_label_list = ['無標註', '自殺與憂鬱', '無助或無望', '正向文字', '其他負向文字',\n",
    "       '生理反應或醫療狀況', '自殺行為']\n",
    "other_categories = ['無助或無望', '正向文字', '其他負向文字','生理反應或醫療狀況']\n",
    "article_dict = {str(key): {'無標註':'', '自殺與憂鬱':'',\n",
    "       '無助或無望':'', '正向文字':'', '其他負向文字':'', '生理反應或醫療狀況':'', '自殺行為':'', '其他類型':''} for key in textID_list}\n",
    "problem_title = []\n",
    "for index, row in s_df.iterrows():\n",
    "    article_dict[str(row['TextID'])]['label'] = df[(df['TextID']) == (row['TextID'])]['Crisis_Level']\n",
    "    flag = article_dict[str(row['TextID'])]['label'].values[0]\n",
    "    if flag == 3:\n",
    "       flag = 1\n",
    "    elif flag == 1:\n",
    "       flag = 3\n",
    "    article_dict[str(row['TextID'])]['Crisis_Level'] = flag\n",
    "    article_dict[str(row['TextID'])]['label'] = [0.0, 0.0, 0.0, 0.0]\n",
    "    article_dict[str(row['TextID'])]['label'][flag] += 1.0\n",
    "    for s_label in sentence_label_list:\n",
    "      if row[s_label] == 1:\n",
    "        tar = ' ' + str(row['Sentence'])\n",
    "        article_dict[str(row['TextID'])][s_label] += tar\n",
    "        if s_label in other_categories:\n",
    "            article_dict[str(row['TextID'])]['其他類型'] += tar\n",
    "        elif s_label == '正向文字':\n",
    "            article_dict[str(row['TextID'])]['無標註'] += tar\n",
    "        break\n",
    "all_article = []\n",
    "for dic in article_dict:\n",
    "    single_article = pd.DataFrame([article_dict[dic]])\n",
    "    single_article['TextID'] = dic\n",
    "    all_article.append(single_article)\n",
    "all_article_df = pd.concat(all_article,axis=0, ignore_index=True)\n",
    "print(all_article_df.columns)\n",
    "all_article_df['TextID'] = all_article_df['TextID'].astype(str)\n",
    "# all_article_df.to_excel('data/article/all_article_with_sentences_split_v2.xlsx', index=False)\n",
    "all_article_df.to_excel('data/article/all_article_with_sentences_split_1108.xlsx', index=False)"
   ]
  },
  {
   "cell_type": "code",
   "execution_count": 2,
   "metadata": {},
   "outputs": [
    {
     "name": "stdout",
     "output_type": "stream",
     "text": [
      "Int64Index([ 325,  283, 1140,  236,  938,  571,   80, 1057,  953, 1404,\n",
      "            ...\n",
      "             321,  301, 1272,  950, 1041, 1177, 1232,  941, 1040,   94],\n",
      "           dtype='int64', length=142)\n"
     ]
    }
   ],
   "source": [
    "import torch\n",
    "import pandas as pd\n",
    "device = torch.device('cuda' if torch.cuda.is_available() else 'cpu')\n",
    "import numpy as np\n",
    "all_df = pd.read_excel('data/article/all_article_with_sentences_split_v2.xlsx')\n",
    "# sentence_label_list = ['無標註', '自殺與憂鬱', '無助或無望', '正向文字', '其他負向文字', '生理反應或醫療狀況', '自殺行為']\n",
    "sentence_label_list = ['無標註','自殺與憂鬱','其他負向文字', '自殺行為']\n",
    "seed = 1\n",
    "test_df = all_df.sample(frac=0.1, random_state=seed)\n",
    "print(test_df.index)\n",
    "without_test_df = all_df.drop(test_df.index)\n",
    "# for index, row in all_df.iterrows():\n"
   ]
  },
  {
   "cell_type": "code",
   "execution_count": 14,
   "metadata": {},
   "outputs": [
    {
     "name": "stdout",
     "output_type": "stream",
     "text": [
      "[72, 38, 23, 9]\n"
     ]
    }
   ],
   "source": [
    "statss = [0]*4\n",
    "for index, row in test_df.iterrows():\n",
    "    statss[row['Crisis_Level']] += 1\n",
    "print(statss)\n",
    "test_df.to_excel('data/article/test_article_1108.xlsx', index=False)"
   ]
  },
  {
   "cell_type": "code",
   "execution_count": 4,
   "metadata": {},
   "outputs": [
    {
     "name": "stdout",
     "output_type": "stream",
     "text": [
      "[600, 419, 177, 86]\n"
     ]
    }
   ],
   "source": [
    "statsss = [0]*4\n",
    "for index, row in without_test_df.iterrows():\n",
    "    statsss[row['Crisis_Level']] += 1\n",
    "print(statsss)"
   ]
  },
  {
   "cell_type": "code",
   "execution_count": 5,
   "metadata": {},
   "outputs": [],
   "source": [
    "df_crisis_level_0 = without_test_df.loc[without_test_df['Crisis_Level'] == 0]\n",
    "df_augmentation_0 = df_crisis_level_0.sample(n=100, random_state=seed)\n",
    "df_remaining = without_test_df.drop(df_augmentation_0.index) "
   ]
  },
  {
   "cell_type": "code",
   "execution_count": 6,
   "metadata": {},
   "outputs": [
    {
     "name": "stdout",
     "output_type": "stream",
     "text": [
      "[500, 419, 177, 86]\n"
     ]
    }
   ],
   "source": [
    "statssss = [0]*4\n",
    "for index, row in df_remaining.iterrows():\n",
    "    statssss[row['Crisis_Level']] += 1\n",
    "print(statssss)"
   ]
  },
  {
   "cell_type": "code",
   "execution_count": 7,
   "metadata": {},
   "outputs": [],
   "source": [
    "df_augmentation_0.to_excel('data/article/augmentation_article_0_1108.xlsx', index=False)"
   ]
  },
  {
   "cell_type": "code",
   "execution_count": 8,
   "metadata": {},
   "outputs": [],
   "source": [
    "df_crisis_level_1 = df_remaining.loc[without_test_df['Crisis_Level'] == 1]\n",
    "df_augmentation_1 = df_crisis_level_1.sample(n=100, random_state=1)\n",
    "df_remaining_v2 = df_remaining.drop(df_augmentation_1.index) "
   ]
  },
  {
   "cell_type": "code",
   "execution_count": 9,
   "metadata": {},
   "outputs": [],
   "source": [
    "# the_stat = [0]*8\n",
    "# k = 0\n",
    "# for index, row in df_augmentation_1.iterrows():\n",
    "#     k += 1\n",
    "#     for idx, key in enumerate(df_augmentation_1):\n",
    "#         if str(row[key]) == 'nan':\n",
    "#             the_stat[idx] += 1\n",
    "# print(the_stat)\n",
    "# statssss = [0]*4\n",
    "# for index, row in df_remaining_v2.iterrows():\n",
    "#     statssss[row['Crisis_Level']] += 1\n",
    "# print(statssss)"
   ]
  },
  {
   "cell_type": "code",
   "execution_count": 10,
   "metadata": {},
   "outputs": [],
   "source": [
    "df_augmentation_1.to_excel('data/article/augmentation_article_1_1108.xlsx', index=False)"
   ]
  },
  {
   "cell_type": "code",
   "execution_count": 11,
   "metadata": {},
   "outputs": [],
   "source": [
    "df_remaining_v2.to_excel('data/article/train_article_1108.xlsx', index=False)"
   ]
  },
  {
   "cell_type": "code",
   "execution_count": 12,
   "metadata": {},
   "outputs": [
    {
     "name": "stdout",
     "output_type": "stream",
     "text": [
      "[2, 3, 69, 59, 7, 55, 24, 2]\n"
     ]
    }
   ],
   "source": [
    "df_crisis_level_3 = df_remaining.loc[without_test_df['Crisis_Level'] == 3]\n",
    "\n",
    "the_stat = [0]*8\n",
    "k = 0\n",
    "for index, row in df_crisis_level_3.iterrows():\n",
    "    k += 1\n",
    "    for idx, key in enumerate(df_augmentation_0):\n",
    "        if str(row[key]) == 'nan':\n",
    "            the_stat[idx] += 1\n",
    "print(the_stat)"
   ]
  },
  {
   "cell_type": "code",
   "execution_count": 1,
   "metadata": {},
   "outputs": [
    {
     "name": "stdout",
     "output_type": "stream",
     "text": [
      "Index(['無標註', '自殺與憂鬱', '無助或無望', '正向文字', '其他負向文字', '生理反應或醫療狀況', '自殺行為', '其他類型',\n",
      "       'label', 'Crisis_Level', 'TextID'],\n",
      "      dtype='object')\n",
      "Index(['無標註', '自殺與憂鬱', '自殺行為', '其他類型', 'label', 'Crisis_Level', 'TextID'], dtype='object')\n",
      "[1229, 623, 287, 133]\n"
     ]
    }
   ],
   "source": [
    "import pandas as pd\n",
    "A1_df = pd.read_excel('data/article/train_article_1108.xlsx')\n",
    "A2_df = pd.read_excel('data/article/A2_final_wo_test_50_1113_v2.xlsx')\n",
    "print(A1_df.columns)\n",
    "print(A2_df.columns)\n",
    "# retrieve the A2 columns of A1\n",
    "A1_df = A1_df[A2_df.columns]\n",
    "# concat A1 and A2 and save\n",
    "A1_A2_df = pd.concat([A1_df, A2_df], axis=0, ignore_index=True)\n",
    "# statistic of A1_A2_df Crisis_Level\n",
    "statsssss = [0]*4\n",
    "for index, row in A1_A2_df.iterrows():\n",
    "    statsssss[row['Crisis_Level']] += 1\n",
    "print(statsssss)\n",
    "\n",
    "A1_A2_df.to_excel('data/article/train_A1_A2_1113_v2.xlsx', index=False)"
   ]
  },
  {
   "cell_type": "code",
   "execution_count": 13,
   "metadata": {},
   "outputs": [],
   "source": [
    "# 產生部分文章\n",
    "# import pandas as pd\n",
    "# label_path = 'data/article/網路危機_A1_文章危機程度.xlsx'\n",
    "# df = pd.read_excel(label_path)\n",
    "# df = df[['TextID','Title','Crisis_Level']]\n",
    "# print(df.columns)\n",
    "# # print(df)\n",
    "\n",
    "# for idx, val in enumerate(df['TextID']):\n",
    "#     if type(val) != str:\n",
    "#         df['TextID'][idx] = str(val)\n",
    "# new_column = [0, 1, 2, 3]\n",
    "# all_article_df = []\n",
    "# for label in new_column:\n",
    "#     all_article_df.append(df[df['Crisis_Level'] == label].loc[:])\n",
    "# for i in all_article_df:\n",
    "#     print(len(i))\n",
    "\n",
    "# partial_article_df = []\n",
    "# for idx, a_df in enumerate(all_article_df):\n",
    "#     if idx == 1:\n",
    "#         n0 = 95\n",
    "#     else:\n",
    "#         n0 = 200\n",
    "#     partial_article_df.append(a_df.sample(n=n0, random_state=12345))\n",
    "# for i in partial_article_df:\n",
    "#     print(len(i))\n",
    "\n",
    "# train_df = pd.concat(partial_article_df,axis=0, ignore_index=True)\n",
    "# print(train_df.columns)\n",
    "# train_df.to_excel('data/article/partial_A1_article.xlsx')\n"
   ]
  }
 ],
 "metadata": {
  "kernelspec": {
   "display_name": "Python 3",
   "language": "python",
   "name": "python3"
  },
  "language_info": {
   "codemirror_mode": {
    "name": "ipython",
    "version": 3
   },
   "file_extension": ".py",
   "mimetype": "text/x-python",
   "name": "python",
   "nbconvert_exporter": "python",
   "pygments_lexer": "ipython3",
   "version": "3.10.12"
  },
  "orig_nbformat": 4
 },
 "nbformat": 4,
 "nbformat_minor": 2
}
