{
 "cells": [
  {
   "cell_type": "code",
   "execution_count": 45,
   "metadata": {},
   "outputs": [],
   "source": [
    "import torch\n",
    "import pandas as pd\n",
    "import numpy as np\n",
    "from tqdm import tqdm\n",
    "from sklearn.model_selection import train_test_split\n",
    "import torch\n",
    "from torch import nn\n",
    "from transformers.models.bert.modeling_bert import BertPreTrainedModel, BertModel,  BertForSequenceClassification\n",
    "from transformers import BertTokenizer, BertConfig\n",
    "from torch.utils.data import DataLoader, Dataset\n",
    "from torch.optim import Adam, AdamW\n",
    "from sklearn.model_selection import train_test_split\n",
    "from sklearn.metrics import accuracy_score, precision_score, recall_score, f1_score, confusion_matrix\n",
    "import matplotlib.pyplot as plt\n",
    "import itertools\n",
    "from module.util import seed_torch\n",
    "\n",
    "PATH = './ckpt/article/0801_300limit_4epoch_binary_5.pkl'\n",
    "device = torch.device('cuda' if torch.cuda.is_available() else 'cpu')\n",
    "seed = 5\n",
    "seed_torch(seed=seed)"
   ]
  },
  {
   "cell_type": "code",
   "execution_count": 46,
   "metadata": {},
   "outputs": [
    {
     "name": "stdout",
     "output_type": "stream",
     "text": [
      "(1427, 4)\n",
      "(1427, 2)\n"
     ]
    }
   ],
   "source": [
    "all_df = pd.read_excel('data/article/train_augmented_1_v4.xlsx').fillna('')\n",
    "# sentence_label_list = ['無標註', '自殺與憂鬱', '無助或無望', '正向文字', '其他負向文字', '生理反應或醫療狀況', '自殺行為']\n",
    "# sentence_label_list = ['無標註','自殺與憂鬱','其他負向文字', '自殺行為']\n",
    "sentence_label_list = ['無標註','自殺與憂鬱', '自殺行為', '其他類型']\n",
    "X = []\n",
    "y = []\n",
    "for index, row in all_df.iterrows():\n",
    "    a_X = []\n",
    "    a_y = [0.0, 0.0]\n",
    "    for key in all_df:\n",
    "        if key in sentence_label_list:\n",
    "            a_X.append(row[key])\n",
    "    crisis_level = int(row['Crisis_Level'])\n",
    "    if crisis_level == 0:\n",
    "        y.append([1.0, 0.0])\n",
    "    elif crisis_level == 1:\n",
    "        y.append([1.0, 0.0])\n",
    "    elif crisis_level == 2:\n",
    "        y.append([1.0, 0.0])\n",
    "    else:\n",
    "        y.append([0.0, 1.0])\n",
    "    X.append(a_X)\n",
    "X = np.array(X)\n",
    "y = np.array(y)\n",
    "print(X.shape)\n",
    "print(y.shape)"
   ]
  },
  {
   "cell_type": "code",
   "execution_count": 47,
   "metadata": {},
   "outputs": [
    {
     "name": "stdout",
     "output_type": "stream",
     "text": [
      "y:  [1127.  300.]\n",
      "['' ' 可是我食慾不振 難聽一點就是他只把我當炮友。' ' 還會有自殘的行為 可是憂鬱症的症狀 我比較少 我不會失眠'\n",
      " ' 我想問問大家 我很常會突然心情不好 開始哭 無法停止'] [0. 1.]\n"
     ]
    }
   ],
   "source": [
    "print(\"y: \",np.sum(y, axis = 0))\n",
    "print(X[0], y[0])"
   ]
  },
  {
   "cell_type": "code",
   "execution_count": 48,
   "metadata": {},
   "outputs": [
    {
     "name": "stdout",
     "output_type": "stream",
     "text": [
      "(600, 4)\n",
      "(600, 2)\n"
     ]
    }
   ],
   "source": [
    "limit = [300, 300]\n",
    "count = [0]*2\n",
    "partial_X = []\n",
    "partial_y = []\n",
    "for idx, y_ in enumerate(y):\n",
    "    crisis_level = np.where(y_ == 1)[0][0]\n",
    "    if count[crisis_level] < limit[crisis_level]:\n",
    "        count[crisis_level] += 1\n",
    "        partial_X.append(X[idx])\n",
    "        partial_y.append(y_)\n",
    "partial_X = np.array(partial_X)\n",
    "partial_y = np.array(partial_y)\n",
    "print(partial_X.shape)\n",
    "print(partial_y.shape)"
   ]
  },
  {
   "cell_type": "code",
   "execution_count": 49,
   "metadata": {},
   "outputs": [
    {
     "name": "stdout",
     "output_type": "stream",
     "text": [
      "540 30 30\n",
      "Distribution  0    1    2    3\n",
      "train:  [273. 267.]\n",
      "valid:  [12. 18.]\n",
      "test:   [15. 15.]\n"
     ]
    }
   ],
   "source": [
    "X_train, X_test, y_train, y_test = train_test_split(partial_X, partial_y, random_state=seed, train_size=0.9)\n",
    "X_val_test = X_test\n",
    "y_val_test = y_test\n",
    "X_test, X_valid, y_test, y_valid = train_test_split(X_test, y_test, random_state=seed, train_size=0.5)\n",
    "print(len(X_train), len(X_valid), len(X_test))\n",
    "print(\"Distribution  0    1    2    3\")\n",
    "print(\"train: \",np.sum(y_train, axis = 0))\n",
    "print(\"valid: \",np.sum(y_valid, axis = 0))\n",
    "print(\"test:  \", np.sum(y_test, axis = 0))"
   ]
  },
  {
   "cell_type": "code",
   "execution_count": 50,
   "metadata": {},
   "outputs": [],
   "source": [
    "# model_name = 'bert-base-chinese'\n",
    "model_name = 'hfl/chinese-bert-wwm-ext'\n",
    "num_sentence_labels = len(sentence_label_list)\n",
    "batch_size = 4\n",
    "max_len = 512\n",
    "train_epoch = 4\n",
    "lr = 2e-5\n",
    "\n",
    "class TextClassificationDataset(Dataset):\n",
    "    def __init__(self, texts, labels, tokenizer, mode, max_len=max_len):\n",
    "        self.texts = texts\n",
    "        self.labels = labels\n",
    "        self.tokenizer = tokenizer\n",
    "        self.mode = mode\n",
    "        self.max_len = max_len\n",
    "\n",
    "\n",
    "    def __len__(self):\n",
    "        return len(self.texts)\n",
    "\n",
    "    def __getitem__(self, idx):\n",
    "        text = self.texts[idx].tolist()\n",
    "        # print(type(text))\n",
    "        # print(text)\n",
    "        label = self.labels[idx]\n",
    "        # if self.mode == 'test':\n",
    "        #     label_tensor = None\n",
    "        # else:\n",
    "        label_tensor = torch.tensor(label)\n",
    "        tokenized = self.tokenizer(text, padding='max_length', truncation=\"longest_first\", return_tensors='pt', max_length=self.max_len)\n",
    "        # tokenized = self.tokenizer(text, padding=512, truncation=True, return_tensors='pt')\n",
    "        tokens_tensor = tokenized['input_ids']\n",
    "        segments_tensor = tokenized['token_type_ids']\n",
    "        mask_tensor = tokenized['attention_mask']\n",
    "        \n",
    "        # inputs = [inp for inp in inputs]\n",
    "        # print(inputs)\n",
    "        return (tokens_tensor, segments_tensor, mask_tensor, label_tensor)\n",
    "\n",
    "class MyModel(BertPreTrainedModel):\n",
    "    def __init__(self, config, num_labels ):\n",
    "        super(MyModel, self).__init__(config)\n",
    "        self.num_labels = num_labels\n",
    "        self.embedding = []\n",
    "        self.bert = BertModel(config)\n",
    "        self.conv1 = torch.nn.Sequential(\n",
    "            torch.nn.Conv2d(1, 16, kernel_size=3, stride=1, padding=1),\n",
    "            torch.nn.BatchNorm2d(16),\n",
    "            torch.nn.ReLU(),\n",
    "            torch.nn.MaxPool2d(stride=2, kernel_size=2))\n",
    "        self.conv2 = torch.nn.Sequential(\n",
    "            torch.nn.Conv2d(16, 4, kernel_size=2, stride=1, padding=1),\n",
    "            torch.nn.BatchNorm2d(4),\n",
    "            torch.nn.ReLU(),\n",
    "            torch.nn.MaxPool2d(stride=2, kernel_size=2))\n",
    "        self.dense = torch.nn.Sequential(\n",
    "            torch.nn.Linear(int(np.ceil(num_sentence_labels/4))*4*192, 2))\n",
    "        self.nn1 = nn.Linear(num_sentence_labels*self.bert.config.hidden_size, self.bert.config.hidden_size)\n",
    "        self.nn2 = nn.Linear(self.bert.config.hidden_size, num_labels)\n",
    "        self.relu = nn.ReLU()\n",
    "        self.softmax = nn.Softmax(dim=1)\n",
    "        self.pooling_strategy = 'reduce_mean'\n",
    "        self.class_weights = [1, 1]\n",
    "        self.weights = torch.tensor(self.class_weights, dtype=torch.float)\n",
    "    def forward(self, input_ids, token_type_ids=None, attention_mask=None,labels=None):\n",
    "        for i in range(num_sentence_labels):\n",
    "            a_kind_of_input_ids = input_ids[:, i, :]\n",
    "            a_kind_of_token_type_ids = token_type_ids[:,i,:]\n",
    "            a_kind_of_attention_mask = attention_mask[:,i,:]\n",
    "            a_kind_of_embedding = self.bert(input_ids=a_kind_of_input_ids, token_type_ids=a_kind_of_token_type_ids,attention_mask=a_kind_of_attention_mask)\n",
    "            encoder_hidden_states = a_kind_of_embedding.pooler_output.to(device)\n",
    "            # print(\"encoder_hidden_states.shape:\",encoder_hidden_states.shape)\n",
    "            # if self.pooling_strategy == 'cls':\n",
    "            #     cls_vector = encoder_hidden_states[:, 0, :]\n",
    "            # elif self.pooling_strategy == 'reduce_mean':\n",
    "            #     cls_vector = encoder_hidden_states.sum(axis=1) / attention_mask.sum(axis=-1).unsqueeze(-1)\n",
    "            # print(cls_vector.shape)\n",
    "            self.embedding.append(encoder_hidden_states)\n",
    "        # concat_embedding = torch.cat(self.embedding, dim=1)\n",
    "        concat_embedding = torch.stack(self.embedding).permute(1, 0, 2)\n",
    "        to_shape = (concat_embedding.shape)\n",
    "        concat_embedding = concat_embedding.reshape(to_shape[0], 1, to_shape[1], to_shape[2])\n",
    "        self.embedding = []\n",
    "        # print(concat_embedding.shape)\n",
    "        # outputs = self.bert(input_ids, token_type_ids=token_type_ids,attention_mask=attention_mask)\n",
    "        # outputs_concat = concat_embedding.reshape(-1,)\n",
    "        \n",
    "        # logits = self.nn1(concat_embedding)\n",
    "        # logits = self.relu(logits)\n",
    "        # logits = self.nn2(logits)\n",
    "        logits = self.conv1(concat_embedding)\n",
    "        logits = self.conv2(logits)\n",
    "        to_shape_logits = logits.shape\n",
    "        logits = logits.view(-1, to_shape_logits[1]*to_shape_logits[2]*to_shape_logits[3])\n",
    "        logits = self.dense(logits)\n",
    "        logits = self.softmax(logits)\n",
    "        loss = None\n",
    "        # print(logits.shape)\n",
    "        # print(labels.shape)\n",
    "        if labels is not None:\n",
    "            loss_fct = nn.CrossEntropyLoss(weight=self.weights.to(device))\n",
    "            loss_ = loss_fct(logits.view(-1, self.num_labels), labels.view(-1, self.num_labels))\n",
    "            loss = loss_\n",
    "        # print(logits, loss)\n",
    "        output = (logits,) # + outputs[2:]\n",
    "        if loss is not None:\n",
    "            return ((loss,) + output)\n",
    "        else:\n",
    "            return output\n",
    "        # return loss, logits"
   ]
  },
  {
   "cell_type": "code",
   "execution_count": 51,
   "metadata": {},
   "outputs": [],
   "source": [
    "tokenizer = BertTokenizer.from_pretrained(model_name)\n",
    "config = BertConfig.from_pretrained(model_name)\n",
    "config.max_length = max_len\n",
    "model = MyModel(config, num_labels=2).to(device)\n",
    "\n",
    "train_dataset = TextClassificationDataset(X_train, y_train, tokenizer, 'train')\n",
    "val_dataset = TextClassificationDataset(X_valid, y_valid, tokenizer, 'valid')\n",
    "test_dataset = TextClassificationDataset(X_test, y_test, tokenizer, 'test')\n",
    "val_test_dataset = TextClassificationDataset(X_val_test, y_val_test, tokenizer, 'test')\n",
    "\n",
    "train_dataloader = DataLoader(train_dataset, batch_size=batch_size)\n",
    "val_dataloader = DataLoader(val_dataset, batch_size=2)\n",
    "test_dataloader = DataLoader(test_dataset, batch_size=batch_size)\n",
    "val_test_dataloader = DataLoader(val_test_dataset, batch_size=batch_size)\n",
    "\n",
    "optimizer = AdamW(model.parameters(), lr=lr)"
   ]
  },
  {
   "cell_type": "code",
   "execution_count": 52,
   "metadata": {},
   "outputs": [
    {
     "name": "stdout",
     "output_type": "stream",
     "text": [
      "epoch  1\n"
     ]
    },
    {
     "name": "stderr",
     "output_type": "stream",
     "text": [
      "100%|██████████| 135/135 [00:54<00:00,  2.48it/s]\n"
     ]
    },
    {
     "name": "stdout",
     "output_type": "stream",
     "text": [
      "Train>>>[epoch 1] loss: 0.502, acc: 0.806\n",
      "Validation: \n"
     ]
    },
    {
     "name": "stderr",
     "output_type": "stream",
     "text": [
      "100%|██████████| 15/15 [00:01<00:00, 12.90it/s]\n"
     ]
    },
    {
     "name": "stdout",
     "output_type": "stream",
     "text": [
      "Validation>>>[epoch 1] loss: 0.442, acc: 0.867\n",
      "epoch  2\n"
     ]
    },
    {
     "name": "stderr",
     "output_type": "stream",
     "text": [
      "100%|██████████| 135/135 [00:54<00:00,  2.48it/s]\n"
     ]
    },
    {
     "name": "stdout",
     "output_type": "stream",
     "text": [
      "Train>>>[epoch 2] loss: 0.475, acc: 0.831\n",
      "Validation: \n"
     ]
    },
    {
     "name": "stderr",
     "output_type": "stream",
     "text": [
      "100%|██████████| 15/15 [00:01<00:00, 12.88it/s]\n"
     ]
    },
    {
     "name": "stdout",
     "output_type": "stream",
     "text": [
      "Validation>>>[epoch 2] loss: 0.426, acc: 0.933\n",
      "epoch  3\n"
     ]
    },
    {
     "name": "stderr",
     "output_type": "stream",
     "text": [
      "100%|██████████| 135/135 [00:54<00:00,  2.48it/s]\n"
     ]
    },
    {
     "name": "stdout",
     "output_type": "stream",
     "text": [
      "Train>>>[epoch 3] loss: 0.474, acc: 0.828\n",
      "Validation: \n"
     ]
    },
    {
     "name": "stderr",
     "output_type": "stream",
     "text": [
      "100%|██████████| 15/15 [00:01<00:00, 12.88it/s]\n"
     ]
    },
    {
     "name": "stdout",
     "output_type": "stream",
     "text": [
      "Validation>>>[epoch 3] loss: 0.428, acc: 0.867\n",
      "epoch  4\n"
     ]
    },
    {
     "name": "stderr",
     "output_type": "stream",
     "text": [
      "100%|██████████| 135/135 [00:54<00:00,  2.48it/s]\n"
     ]
    },
    {
     "name": "stdout",
     "output_type": "stream",
     "text": [
      "Train>>>[epoch 4] loss: 0.470, acc: 0.835\n",
      "Validation: \n"
     ]
    },
    {
     "name": "stderr",
     "output_type": "stream",
     "text": [
      "100%|██████████| 15/15 [00:01<00:00, 12.88it/s]"
     ]
    },
    {
     "name": "stdout",
     "output_type": "stream",
     "text": [
      "Validation>>>[epoch 4] loss: 0.421, acc: 0.867\n"
     ]
    },
    {
     "name": "stderr",
     "output_type": "stream",
     "text": [
      "\n"
     ]
    }
   ],
   "source": [
    "# Training\n",
    "model.train()\n",
    "for epoch in range(train_epoch):  # number of epochs\n",
    "    print(\"epoch \", epoch+1)\n",
    "    running_train_loss = 0.0\n",
    "    running_train_correct = 0.0\n",
    "    train_total = 0.0\n",
    "    for batch_data in tqdm(train_dataloader):\n",
    "        tokens_tensors, segments_tensors, masks_tensors, labels = [t.to(device) for t in batch_data]\n",
    "        optimizer.zero_grad()\n",
    "        loss, logits = model(input_ids=tokens_tensors, token_type_ids=segments_tensors, attention_mask=masks_tensors,labels=labels)\n",
    "        # print(loss)\n",
    "        loss.backward()\n",
    "        optimizer.step()\n",
    "        torch.nn.utils.clip_grad_norm_(model.parameters(), 1.0)\n",
    "        running_train_loss += loss.item()\n",
    "        prob = logits.data\n",
    "        _, pred = torch.max(prob, 1)\n",
    "        _, truth = torch.max(labels, 1)\n",
    "        train_total += labels.size(0)\n",
    "        running_train_correct += (pred == truth).sum().item()\n",
    "        del tokens_tensors\n",
    "        del segments_tensors\n",
    "        del masks_tensors\n",
    "        del labels\n",
    "    train_acc = running_train_correct / train_total\n",
    "    avg_running_train_loss = running_train_loss / len(train_dataloader)\n",
    "    print('Train>>>[epoch %d] loss: %.3f, acc: %.3f' %\n",
    "        (epoch + 1, avg_running_train_loss, train_acc))\n",
    "    print(\"Validation: \")\n",
    "    running_val_loss = 0.0\n",
    "    running_val_correct = 0.0\n",
    "    val_total = 0.0\n",
    "    for batch_data in tqdm(val_dataloader):\n",
    "        tokens_tensors, segments_tensors, masks_tensors, labels = [t.to(device) for t in batch_data]\n",
    "        with torch.no_grad(): \n",
    "            loss, logits = model(input_ids=tokens_tensors, token_type_ids=segments_tensors, attention_mask=masks_tensors,labels=labels)\n",
    "            running_val_loss += loss.item()\n",
    "            prob = logits.data\n",
    "            _, pred = torch.max(prob, 1)\n",
    "            _, truth = torch.max(labels, 1)\n",
    "            val_total += labels.size(0)\n",
    "            running_val_correct += (pred == truth).sum().item()\n",
    "            del tokens_tensors\n",
    "            del segments_tensors\n",
    "            del masks_tensors\n",
    "            del labels\n",
    "    val_acc = running_val_correct / val_total\n",
    "    avg_running_val_loss = running_val_loss / len(val_dataloader)\n",
    "    print('Validation>>>[epoch %d] loss: %.3f, acc: %.3f' %\n",
    "        (epoch + 1, avg_running_val_loss, val_acc))\n",
    "        \n"
   ]
  },
  {
   "cell_type": "code",
   "execution_count": 53,
   "metadata": {},
   "outputs": [
    {
     "name": "stderr",
     "output_type": "stream",
     "text": [
      "100%|██████████| 8/8 [00:01<00:00,  7.15it/s]"
     ]
    },
    {
     "name": "stdout",
     "output_type": "stream",
     "text": [
      "torch.Size([30])\n",
      "torch.Size([30])\n"
     ]
    },
    {
     "name": "stderr",
     "output_type": "stream",
     "text": [
      "\n"
     ]
    }
   ],
   "source": [
    "\n",
    "y_true = []\n",
    "y_pred = []\n",
    "train_total = 0.0\n",
    "for batch_data in tqdm(test_dataloader):\n",
    "    tokens_tensors, segments_tensors, masks_tensors,labels  = [t.to(device) for t in batch_data]\n",
    "    with torch.no_grad(): \n",
    "        loss, logits = model(input_ids=tokens_tensors, token_type_ids=segments_tensors, attention_mask=masks_tensors,labels=labels)\n",
    "    # print(loss)\n",
    "        prob = logits.data\n",
    "        _, pred = torch.max(prob, 1)\n",
    "        _, truth = torch.max(labels, 1)\n",
    "        train_total += labels.size(0)\n",
    "        y_true.append(truth)\n",
    "        y_pred.append(pred)\n",
    "        del tokens_tensors\n",
    "        del segments_tensors\n",
    "        del masks_tensors\n",
    "        del labels\n",
    "pred = torch.cat(y_pred)\n",
    "ground_truth = torch.cat(y_true)\n",
    "print(pred.shape)\n",
    "print(ground_truth.shape)\n"
   ]
  },
  {
   "cell_type": "code",
   "execution_count": 54,
   "metadata": {},
   "outputs": [
    {
     "data": {
      "image/png": "[encoded data removed]",
      "text/plain": [
       "<Figure size 640x480 with 2 Axes>"
      ]
     },
     "metadata": {},
     "output_type": "display_data"
    },
    {
     "name": "stdout",
     "output_type": "stream",
     "text": [
      "accuracy:  0.967\n",
      "f1-score:  0.967\n"
     ]
    }
   ],
   "source": [
    "cm = confusion_matrix(y_true=ground_truth.cpu(), y_pred=pred.cpu(), labels=[0,1])\n",
    "plt.imshow(cm, interpolation='nearest', cmap=plt.cm.Blues)\n",
    "plt.title(\"Confusion Matrix\")\n",
    "plt.colorbar()\n",
    "tick_marks = np.arange(2)\n",
    "plt.xticks(tick_marks, ['0-0','1-A'], rotation=90)\n",
    "plt.yticks(tick_marks, ['0-0','1-A'])\n",
    "\n",
    "fmt = 'd' \n",
    "thresh = cm.max() / 2.\n",
    "for i, j in itertools.product(range(cm.shape[0]), range(cm.shape[1])):\n",
    "    plt.text(j, i, format(cm[i, j], fmt),\n",
    "                horizontalalignment=\"center\",\n",
    "                color=\"white\" if cm[i, j] > thresh else \"black\")\n",
    "\n",
    "plt.tight_layout()\n",
    "plt.ylabel('True label')\n",
    "plt.xlabel('Predicted label')\n",
    "plt.show()\n",
    "acc = accuracy_score(y_true=ground_truth.cpu(), y_pred=pred.cpu())\n",
    "f1 = f1_score(y_true=ground_truth.cpu(), y_pred=pred.cpu(), average='weighted')\n",
    "print(\"accuracy: \", round(acc, 3))\n",
    "print(\"f1-score: \", round(f1, 3))"
   ]
  },
  {
   "cell_type": "code",
   "execution_count": 55,
   "metadata": {},
   "outputs": [],
   "source": [
    "# print(\n",
    "\n",
    "torch.save(model.state_dict(), PATH)"
   ]
  }
 ],
 "metadata": {
  "kernelspec": {
   "display_name": "Python 3",
   "language": "python",
   "name": "python3"
  },
  "language_info": {
   "codemirror_mode": {
    "name": "ipython",
    "version": 3
   },
   "file_extension": ".py",
   "mimetype": "text/x-python",
   "name": "python",
   "nbconvert_exporter": "python",
   "pygments_lexer": "ipython3",
   "version": "3.10.6"
  },
  "orig_nbformat": 4
 },
 "nbformat": 4,
 "nbformat_minor": 2
}
