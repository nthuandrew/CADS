{
 "cells": [
  {
   "cell_type": "code",
   "execution_count": 62,
   "metadata": {},
   "outputs": [
    {
     "name": "stdout",
     "output_type": "stream",
     "text": [
      "46588\n",
      "Index(['Unnamed: 0', 'No.', 'TextID', 'Title', 'Sentence', '無標註', '自殺與憂鬱',\n",
      "       '無助或無望', '正向文字', '其他負向文字', '生理反應或醫療狀況', '自殺行為', '其他類型'],\n",
      "      dtype='object')\n"
     ]
    }
   ],
   "source": [
    "import pandas as pd\n",
    "seed = 12\n",
    "df = pd.read_excel('data/raw/new_clean_data_all.xlsx')\n",
    "print(len(df))\n",
    "print(df.columns)"
   ]
  },
  {
   "cell_type": "code",
   "execution_count": 63,
   "metadata": {},
   "outputs": [
    {
     "name": "stderr",
     "output_type": "stream",
     "text": [
      "/tmp/ipykernel_1131493/2306923281.py:8: SettingWithCopyWarning: \n",
      "A value is trying to be set on a copy of a slice from a DataFrame\n",
      "\n",
      "See the caveats in the documentation: https://pandas.pydata.org/pandas-docs/stable/user_guide/indexing.html#returning-a-view-versus-a-copy\n",
      "  df['無標註'][idx] = 1\n"
     ]
    }
   ],
   "source": [
    "other_type = []\n",
    "for idx, row in df.iterrows():\n",
    "    if row['無助或無望'] or row['其他負向文字'] or row['生理反應或醫療狀況']:\n",
    "        other_type.append(1)\n",
    "    else:\n",
    "        other_type.append(0)\n",
    "        if row['正向文字']:\n",
    "            df['無標註'][idx] = 1\n",
    "df['其他類型'] = other_type"
   ]
  },
  {
   "cell_type": "code",
   "execution_count": 64,
   "metadata": {},
   "outputs": [],
   "source": [
    "df.to_excel(\"data/raw/four_class_1108.xlsx\")"
   ]
  },
  {
   "cell_type": "code",
   "execution_count": 65,
   "metadata": {},
   "outputs": [
    {
     "name": "stdout",
     "output_type": "stream",
     "text": [
      "34808\n",
      "3443\n",
      "139\n",
      "8198\n"
     ]
    }
   ],
   "source": [
    "df = pd.read_excel('data/raw/four_class_1108.xlsx')\n",
    "target_columns = ['TextID' , 'Title' ,'Sentence','無標註','自殺與憂鬱','自殺行為','其他類型']\n",
    "df = df[target_columns]\n",
    "all_labelize_df = []\n",
    "new_column=['無標註','自殺與憂鬱','自殺行為','其他類型']\n",
    "for label in new_column:\n",
    "    all_labelize_df.append(df[df[label] == 1].loc[:])\n",
    "for i in all_labelize_df:\n",
    "    print(len(i))"
   ]
  },
  {
   "cell_type": "code",
   "execution_count": 66,
   "metadata": {},
   "outputs": [
    {
     "name": "stdout",
     "output_type": "stream",
     "text": [
      "29460\n",
      "4431\n",
      "133\n",
      "9844\n"
     ]
    }
   ],
   "source": [
    "### new block at 11/13!!! Goal: take A2 sentence into training data\n",
    "df_A2 = pd.read_excel('data/article/split_output_A2_v2_answer.xlsx')\n",
    "df_A2 = df_A2[target_columns]\n",
    "# DF = pd.concat([df, df_A2], axis=0, ignore_index=True)\n",
    "all_labelize_df_A2 = []\n",
    "for label in new_column:\n",
    "    all_labelize_df_A2.append(df_A2[df_A2[label] == 1].loc[:])\n",
    "for i in all_labelize_df_A2:\n",
    "    print(len(i))\n"
   ]
  },
  {
   "cell_type": "code",
   "execution_count": 67,
   "metadata": {},
   "outputs": [
    {
     "name": "stdout",
     "output_type": "stream",
     "text": [
      "35\n",
      "35\n",
      "35\n",
      "35\n",
      "34773\n",
      "3408\n",
      "104\n",
      "8163\n"
     ]
    }
   ],
   "source": [
    "# TODO: split \"all_labelize_df\" into \"test_labelize_df\" and \"labelize_df\"\n",
    "# random_state = 1\n",
    "test_labelize_df = []\n",
    "labelize_df = []\n",
    "for idx, a_df in enumerate(all_labelize_df):\n",
    "    n0 = 40\n",
    "    if idx == 0:\n",
    "        n0 = 35\n",
    "    elif idx == 1:\n",
    "        n0 = 35\n",
    "    elif idx == 2:\n",
    "        n0 = 35\n",
    "    else:\n",
    "        n0 = 35\n",
    "    test_labelize_df.append(a_df.sample(n=n0, random_state=seed))\n",
    "    labelize_df.append(a_df.drop(test_labelize_df[-1].index))\n",
    "for i in test_labelize_df:\n",
    "    print(len(i))\n",
    "for i in labelize_df:\n",
    "    print(len(i))\n"
   ]
  },
  {
   "cell_type": "code",
   "execution_count": 68,
   "metadata": {},
   "outputs": [
    {
     "name": "stdout",
     "output_type": "stream",
     "text": [
      "(34773, 7)\n",
      "(18773, 7)\n",
      "(8000, 7)\n",
      "(8000, 7)\n"
     ]
    }
   ],
   "source": [
    "# split Augmentation Data\n",
    "all_middle_df = labelize_df[0]\n",
    "print(all_middle_df.shape)\n",
    "to_add = [8000, 8000]\n",
    "Augment_df = []\n",
    "for i in range(2):\n",
    "    Augment_df.append(all_middle_df.sample(n=to_add[i], random_state=seed))\n",
    "    all_middle_df = all_middle_df.drop(Augment_df[-1].index)\n",
    "print(all_middle_df.shape)\n",
    "labelize_df[0] = all_middle_df\n",
    "\n",
    "for i in range(len(labelize_df)):\n",
    "    labelize_df[i] = labelize_df[i].reset_index(drop=True)\n",
    "# for df in labelize_df:\n",
    "#     print(df)\n",
    "for i in range(len(Augment_df)):\n",
    "    Augment_df[i] = Augment_df[i].reset_index(drop=True)\n",
    "for df in Augment_df:\n",
    "    print(df.shape)"
   ]
  },
  {
   "cell_type": "code",
   "execution_count": 69,
   "metadata": {},
   "outputs": [
    {
     "name": "stdout",
     "output_type": "stream",
     "text": [
      "(48233, 7)\n",
      "(7839, 7)\n",
      "(237, 7)\n",
      "(18007, 7)\n"
     ]
    }
   ],
   "source": [
    "### new block at 11/13!!! Goal: combine A1 training data and A2 training data\n",
    "for i in range(len(labelize_df)):\n",
    "    labelize_df[i] = pd.concat([labelize_df[i], all_labelize_df_A2[i]], axis=0, ignore_index=True)\n",
    "    print(labelize_df[i].shape)"
   ]
  },
  {
   "cell_type": "code",
   "execution_count": 70,
   "metadata": {},
   "outputs": [
    {
     "name": "stdout",
     "output_type": "stream",
     "text": [
      "augment:  (17000, 7)\n"
     ]
    },
    {
     "name": "stdout",
     "output_type": "stream",
     "text": [
      "augment:  (15839, 7)\n",
      "augment:  (8237, 7)\n",
      "augment:  (17000, 7)\n",
      "(17000, 7)\n",
      "(15839, 7)\n",
      "(8237, 7)\n",
      "(17000, 7)\n"
     ]
    }
   ],
   "source": [
    "\n",
    "to_train = 17000\n",
    "training_df = []\n",
    "\n",
    "augment_id = 0\n",
    "for idx, a_df in enumerate(labelize_df):\n",
    "    augment_label = new_column[idx]\n",
    "    if a_df.shape[0] > to_train:\n",
    "        training_df.append(a_df.sample(n=to_train, random_state=seed))\n",
    "        print(\"augment: \",training_df[-1].shape)\n",
    "    else:\n",
    "        to_augment_df = a_df\n",
    "        boundary = a_df.shape[0]\n",
    "        for i in range(len(Augment_df[augment_id])):\n",
    "            # try: \n",
    "                # print(idx, i)\n",
    "                if len( str(Augment_df[augment_id].at[i, 'Sentence'])) < 5:\n",
    "                    augment_sentence = str(a_df.at[i % boundary, 'Sentence']) + str(Augment_df[augment_id].at[i, 'Sentence'])\n",
    "                else:\n",
    "                    augment_sentence = str(a_df.at[i % boundary, 'Sentence']) + str(Augment_df[augment_id].at[i, 'Sentence'])[:5]\n",
    "                to_augment_df = pd.concat([to_augment_df, a_df.iloc[i % boundary:(i % boundary)+1]], ignore_index=True)\n",
    "                to_augment_df.at[boundary+i, 'Sentence'] = augment_sentence\n",
    "            # except:\n",
    "            #     print(i % boundary)\n",
    "        training_df.append(to_augment_df)\n",
    "        print(\"augment: \",to_augment_df.shape)\n",
    "        augment_id += 1\n",
    "        to_add = to_train\n",
    "for df in training_df:\n",
    "    print(df.shape)"
   ]
  },
  {
   "cell_type": "code",
   "execution_count": null,
   "metadata": {},
   "outputs": [
    {
     "name": "stdout",
     "output_type": "stream",
     "text": [
      "augment:  (17000, 7)\n"
     ]
    },
    {
     "name": "stdout",
     "output_type": "stream",
     "text": [
      "augment:  (15839, 7)\n",
      "augment:  (8237, 7)\n",
      "augment:  (17000, 7)\n",
      "(17000, 7)\n",
      "(15839, 7)\n",
      "(8237, 7)\n",
      "(17000, 7)\n"
     ]
    }
   ],
   "source": [
    "\n",
    "to_train = 17000\n",
    "training_df = []\n",
    "\n",
    "augment_id = 0\n",
    "for idx, a_df in enumerate(labelize_df):\n",
    "    augment_label = new_column[idx]\n",
    "    if a_df.shape[0] > to_train:\n",
    "        training_df.append(a_df.sample(n=to_train, random_state=seed))\n",
    "        print(\"augment: \",training_df[-1].shape)\n",
    "    else:\n",
    "        to_augment_df = a_df\n",
    "        boundary = a_df.shape[0]\n",
    "        for i in range(len(Augment_df[augment_id])):\n",
    "            # try: \n",
    "                # print(idx, i)\n",
    "                if len( str(Augment_df[augment_id].at[i, 'Sentence'])) < 5:\n",
    "                    augment_sentence = str(a_df.at[i % boundary, 'Sentence']) + str(Augment_df[augment_id].at[i, 'Sentence'])\n",
    "                else:\n",
    "                    augment_sentence = str(a_df.at[i % boundary, 'Sentence']) + str(Augment_df[augment_id].at[i, 'Sentence'])[:5]\n",
    "                to_augment_df = pd.concat([to_augment_df, a_df.iloc[i % boundary:(i % boundary)+1]], ignore_index=True)\n",
    "                to_augment_df.at[boundary+i, 'Sentence'] = augment_sentence\n",
    "            # except:\n",
    "            #     print(i % boundary)\n",
    "        training_df.append(to_augment_df)\n",
    "        print(\"augment: \",to_augment_df.shape)\n",
    "        augment_id += 1\n",
    "        to_add = to_train\n",
    "for df in training_df:\n",
    "    print(df.shape)"
   ]
  },
  {
   "cell_type": "code",
   "execution_count": 71,
   "metadata": {},
   "outputs": [
    {
     "name": "stdout",
     "output_type": "stream",
     "text": [
      "Index(['TextID', 'Title', 'Sentence', '無標註', '自殺與憂鬱', '自殺行為', '其他類型'], dtype='object')\n"
     ]
    },
    {
     "name": "stdout",
     "output_type": "stream",
     "text": [
      "Index(['TextID', 'Title', 'Sentence', '無標註', '自殺與憂鬱', '自殺行為', '其他類型'], dtype='object')\n"
     ]
    }
   ],
   "source": [
    "# 0526 success version of augmentation\n",
    "\n",
    "augmented_df = pd.concat(training_df,axis=0, ignore_index=True)\n",
    "print(augmented_df.columns)\n",
    "augmented_df.to_excel('data/raw/four_class_augmented_1113_v4.xlsx')\n",
    "test_df = pd.concat(test_labelize_df,axis=0, ignore_index=True)\n",
    "print(test_df.columns)\n",
    "test_df.to_excel('data/raw/four_class_augmented_1113_test_v4.xlsx')"
   ]
  },
  {
   "cell_type": "code",
   "execution_count": 79,
   "metadata": {},
   "outputs": [
    {
     "data": {
      "image/png": "[encoded data removed]",
      "text/plain": [
       "<Figure size 1000x800 with 2 Axes>"
      ]
     },
     "metadata": {},
     "output_type": "display_data"
    }
   ],
   "source": [
    "import matplotlib.pyplot as plt\n",
    "import seaborn as sns\n",
    "from matplotlib.font_manager import FontProperties\n",
    "\n",
    "# Set Chinese font\n",
    "plt.rcParams['font.sans-serif'] = ['SimHei'] \n",
    "# assign a list to [中性句、自殺與憂鬱情緒、無助或無望、正向文字、其他負向文字、生理反應或醫療狀況、自殺行為]\n",
    "# to be axis of heatmap\n",
    "\n",
    "columns = ['中性句','自殺與憂鬱情緒','無助或無望','正向文字','其他負向文字','生理反應或醫療狀況','自殺行為']\n",
    "\n",
    "\n",
    "\n",
    "updated_confusion_matrix = [[20, 0],[9, 11]]\n",
    "\n",
    "# Set the style of seaborn\n",
    "sns.set(style=\"whitegrid\")\n",
    "\n",
    "# Create a confusion matrix heatmap\n",
    "plt.figure(figsize=(10, 8))\n",
    "sns.heatmap(updated_confusion_matrix, annot=True, fmt=\"d\", cmap=\"Blues\", linewidths=.5)\n",
    "\n",
    "# Adding labels and title\n",
    "plt.title('Confusion Matrix')\n",
    "plt.xlabel('Predicted Labels')\n",
    "plt.ylabel('True Labels')\n",
    "plt.show()\n"
   ]
  }
 ],
 "metadata": {
  "kernelspec": {
   "display_name": "Python 3",
   "language": "python",
   "name": "python3"
  },
  "language_info": {
   "codemirror_mode": {
    "name": "ipython",
    "version": 3
   },
   "file_extension": ".py",
   "mimetype": "text/x-python",
   "name": "python",
   "nbconvert_exporter": "python",
   "pygments_lexer": "ipython3",
   "version": "3.10.12"
  },
  "orig_nbformat": 4
 },
 "nbformat": 4,
 "nbformat_minor": 2
}
