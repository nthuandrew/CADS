{
 "cells": [
  {
   "cell_type": "code",
   "execution_count": null,
   "metadata": {},
   "outputs": [],
   "source": [
    "import openai\n",
    "from sklearn.metrics import accuracy_score, precision_score, recall_score, f1_score\n",
    "\n",
    "# Set your OpenAI API key\n",
    "openai.api_key = 'your-api-key'\n",
    "\n",
    "# Replace 'articles' with your actual dataset where each item is (article_text, true_label)\n",
    "articles = [\n",
    "    (\"Example text for Article 1\", 0),\n",
    "    (\"Example text for Article 2\", 1),\n",
    "    (\"Example text for Article 3\", 2),\n",
    "    (\"Example text for Article 4\", 3)\n",
    "]\n",
    "\n",
    "def classify_article(article_text):\n",
    "    try:\n",
    "        response = openai.Completion.create(\n",
    "            engine=\"text-davinci-003\",\n",
    "            prompt=f\"Classify the crisis level of the following article based on the description of suicidal thoughts and actions:\\n{article_text}\\nOptions: Level 0, Level 1, Level 2, Level 3\",\n",
    "            max_tokens=60\n",
    "        )\n",
    "        prediction = response.choices[0].text.strip()\n",
    "        # Convert prediction text to integer (assuming the model returns 'Level X')\n",
    "        return int(prediction.split()[-1])\n",
    "    except Exception as e:\n",
    "        print(f\"An error occurred: {e}\")\n",
    "        return None\n",
    "\n",
    "# Collect predictions and true labels\n",
    "predictions = []\n",
    "true_labels = []\n",
    "\n",
    "for article, label in articles:\n",
    "    predicted_level = classify_article(article)\n",
    "    predictions.append(predicted_level)\n",
    "    true_labels.append(label)\n",
    "\n",
    "# Calculate evaluation metrics\n",
    "accuracy = accuracy_score(true_labels, predictions)\n",
    "weighted_precision = precision_score(true_labels, predictions, average='weighted')\n",
    "weighted_recall = recall_score(true_labels, predictions, average='weighted')\n",
    "weighted_f1 = f1_score(true_labels, predictions, average='weighted')\n",
    "\n",
    "print(f\"Accuracy: {accuracy}\")\n",
    "print(f\"Weighted Precision: {weighted_precision}\")\n",
    "print(f\"Weighted Recall: {weighted_recall}\")\n",
    "print(f\"Weighted F1: {weighted_f1}\")\n"
   ]
  }
 ],
 "metadata": {
  "language_info": {
   "name": "python"
  }
 },
 "nbformat": 4,
 "nbformat_minor": 2
}
