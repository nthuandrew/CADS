{
 "cells": [
  {
   "cell_type": "code",
   "execution_count": 1,
   "metadata": {},
   "outputs": [],
   "source": [
    "'data/article/all_article_with_sentences_split_v2.xlsx'\n",
    "import pandas as pd\n",
    "# df = pd.read_excel('data/article/train_augmented_1_v4.xlsx').fillna('')\n",
    "# df = pd.read_excel('data/article/test_article.xlsx').fillna('')\n",
    "df = pd.read_excel('data/article/A2_article_with_sentences_split_four_class_partial.xlsx').fillna('')"
   ]
  },
  {
   "cell_type": "code",
   "execution_count": 2,
   "metadata": {},
   "outputs": [],
   "source": [
    "# iterate df\n",
    "import random\n",
    "article_list = []\n",
    "# article_label_list = ['無危機文章', '低危機文章', '中危機文章', '高危機文章']\n",
    "article_label_list = ['無危機文章', '無危機文章', '無危機文章', '高危機文章']\n",
    "sentence_label_list = ['無標註', '自殺與憂鬱', '自殺行為', '其他類型']\n",
    "discription = ['中性句的段落:', '自殺與憂鬱的段落:', '自殺行為的段落:', '其他類型的段落:']\n",
    "for index, row in df.iterrows():\n",
    "    a_dict = {}\n",
    "    label = int(row['Crisis_Level'])\n",
    "    paragraphs = ''\n",
    "    for id, desp in enumerate(sentence_label_list):\n",
    "        paragraphs += discription[id] + str(row[desp]) + '\\n'\n",
    "    a_dict['content'] = paragraphs\n",
    "    a_dict['summary'] = article_label_list[label]\n",
    "    article_list.append(a_dict)\n",
    "\n",
    "# Shuffle the list\n",
    "random.seed(10)\n",
    "random.shuffle(article_list)\n"
   ]
  },
  {
   "cell_type": "code",
   "execution_count": 3,
   "metadata": {},
   "outputs": [],
   "source": [
    "# # filter out '無危機文章'\n",
    "# high_article_list = [article for article in article_list if article['summary'] != '無危機文章']\n",
    "# low_article_list = [article for article in article_list if article['summary'] == '無危機文章']\n",
    "# # random choice 300 articles from low_article_list\n",
    "# low_article_list = random.sample(low_article_list, 300)\n",
    "# # combine high_article_list and low_article_list\n",
    "# article_list = high_article_list + low_article_list\n",
    "# random.shuffle(article_list)"
   ]
  },
  {
   "cell_type": "code",
   "execution_count": 4,
   "metadata": {},
   "outputs": [],
   "source": [
    "# write the list of dict to a json file\n",
    "import json\n",
    "with open(\"ChatGLM/ptuning_v2/Articles_data/A2_article_binary.json\", \"w\",  encoding='utf-8') as f:\n",
    "    for dict in article_list:\n",
    "        json.dump(dict, f,  ensure_ascii=False)\n",
    "        # 寫入一個換行符來區分不同的字典\n",
    "        f.write(\"\\n\")"
   ]
  }
 ],
 "metadata": {
  "kernelspec": {
   "display_name": "Python 3",
   "language": "python",
   "name": "python3"
  },
  "language_info": {
   "codemirror_mode": {
    "name": "ipython",
    "version": 3
   },
   "file_extension": ".py",
   "mimetype": "text/x-python",
   "name": "python",
   "nbconvert_exporter": "python",
   "pygments_lexer": "ipython3",
   "version": "3.10.6"
  },
  "orig_nbformat": 4
 },
 "nbformat": 4,
 "nbformat_minor": 2
}
