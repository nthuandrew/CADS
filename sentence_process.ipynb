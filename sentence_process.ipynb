{
 "cells": [
  {
   "cell_type": "code",
   "execution_count": 3,
   "metadata": {},
   "outputs": [
    {
     "name": "stdout",
     "output_type": "stream",
     "text": [
      "   Unnamed: 0  No.      TextID     Title  \\\n",
      "0           0    1  0038f0569e  憂鬱症的我...   \n",
      "1           1    2  0038f0569e  憂鬱症的我...   \n",
      "2           2    3  0038f0569e  憂鬱症的我...   \n",
      "3           3    4  0038f0569e  憂鬱症的我...   \n",
      "4           4    5  0038f0569e  憂鬱症的我...   \n",
      "\n",
      "                                 Sentence  無標註  自殺與憂鬱  無助或無望  正向文字  其他負向文字  \\\n",
      "0  以下文長...如果排版上有問題請見諒:loudly_crying_face:    1      0      0     0       0   \n",
      "1                  其實從小到大，我自認為我自己的個性就是樂天派    0      0      0     1       0   \n",
      "2             給人的感覺就是瘋瘋的，但是要認真的時候我也是會很認真的    1      0      0     0       0   \n",
      "3                         而且我又是個喜歡到處出去玩的人    0      0      0     1       0   \n",
      "4                     認識朋友、運動、跳舞都是我的興趣和樂趣    0      0      0     1       0   \n",
      "\n",
      "   生理反應或醫療狀況  自殺行為  其他類型  \n",
      "0          0     0     0  \n",
      "1          0     0     1  \n",
      "2          0     0     0  \n",
      "3          0     0     1  \n",
      "4          0     0     1  \n"
     ]
    }
   ],
   "source": [
    "import pandas as pd\n",
    "import numpy as np\n",
    "import matplotlib.pyplot as plt\n",
    "\n",
    "# import \"data/raw/new_clean_data_all.xlsx\" as dataframe\n",
    "df = pd.read_excel(\"data/raw/new_clean_data_all.xlsx\")\n",
    "label_list = [\"無標註\", \"自殺與憂鬱\", \"無助或無望\", \"正向文字\", \"其他負向文字\", \"生理反應或醫療狀況\",\"自殺行為\"]\n",
    "other_list = [\"無助或無望\", \"正向文字\", \"其他負向文字\", \"生理反應或醫療狀況\"]\n",
    "# label_list = [\"無標註\", \"自殺與憂鬱\",\"自殺行為\",\"其他類型\"]\n",
    "\n",
    "# set all of df['其他類型'] = 0 \n",
    "df['其他類型'] = 0\n",
    "\n",
    "for idx, row in df.iterrows():\n",
    "    for label in label_list:\n",
    "        if row[label] == 1:\n",
    "            if label in other_list:\n",
    "                df.loc[idx, '其他類型'] = 1\n",
    "            break\n",
    "print(df.head())\n",
    "# df.to_excel(\"data/raw/new_clean_data_all.xlsx\", index=False)\n",
    "\n",
    "\n",
    "\n",
    "\n"
   ]
  },
  {
   "cell_type": "code",
   "execution_count": 6,
   "metadata": {},
   "outputs": [],
   "source": [
    "df = pd.read_excel(\"data/raw/new_clean_data_all.xlsx\")\n",
    "four_label_list = [\"無標註\", \"自殺與憂鬱\",\"自殺行為\", \"其他類型\"]\n",
    "df_list = []\n",
    "df_list.append(df[df['無標註'] == 1])\n",
    "df_list.append(df[df['自殺與憂鬱'] == 1])\n",
    "df_list.append(df[df['自殺行為'] == 1])\n",
    "df_list.append(df[df['其他類型'] == 1])\n"
   ]
  },
  {
   "cell_type": "code",
   "execution_count": 9,
   "metadata": {},
   "outputs": [],
   "source": [
    "target_df = []\n",
    "test_df = []\n",
    "for a_df in df_list:\n",
    "    # sample 120 data from each df\n",
    "    target_df.append(a_df.sample(n=120, random_state=1))\n",
    "    # get rest of data from each df\n",
    "    remain_df = a_df.drop(target_df[-1].index)\n",
    "    test_df.append(remain_df.sample(n=19, random_state=1))\n",
    "# concat all of target_df\n",
    "partial_df = pd.concat(target_df,axis=0, ignore_index=True)\n",
    "all_test_df = pd.concat(test_df,axis=0, ignore_index=True)\n",
    "partial_df.to_excel(\"data/raw/new_clean_data_partial_120.xlsx\", index=False)\n",
    "all_test_df.to_excel(\"data/raw/new_clean_data_partial_120_test.xlsx\", index=False)"
   ]
  },
  {
   "cell_type": "code",
   "execution_count": 2,
   "metadata": {},
   "outputs": [
    {
     "name": "stdout",
     "output_type": "stream",
     "text": [
      "30\n",
      "[{'content': '甚至疏遠妳', 'summary': '自殺與憂鬱'},\n",
      " {'content': '一直痛到連腰部也會痛，陰道也有異常的出血（不像月經的血）', 'summary': '其他類型'},\n",
      " {'content': '我自己也跟閨蜜說 復學不是為了學業或是證書 而是為了證明自己', 'summary': '無標註'},\n",
      " {'content': '會再以傷害自己的方式懲罰自己。', 'summary': '自殺行為'},\n",
      " {'content': '只要遲到那一年就沒得出門，', 'summary': '無標註'}]\n"
     ]
    }
   ],
   "source": [
    "import pandas as pd\n",
    "import numpy as np\n",
    "from pprint import pprint\n",
    "import random\n",
    "# import \"data/raw/four_class_augmented_0526_v2.xlsx\" as pandas dataframe\n",
    "df = pd.read_excel(\"data/raw/new_clean_data_partial_120_test.xlsx\")\n",
    "# df = pd.read_excel(\"data/raw/four_class_augmented_0526_v2.xlsx\")\n",
    "df.head()\n",
    "# construct a list of dict, with small dict has key \"Sentence\" and \"label\"\n",
    "# the label is one of [\"無標註\", \"自殺與憂鬱\", \"自殺行為\", \"其他類型\"]\n",
    "# the sentence is the \"Sentence\" columns in the excel file\n",
    "label_list = [\"無標註\", \"自殺與憂鬱\", \"自殺行為\", \"其他類型\"]\n",
    "# description = [\"情緒為中性的句子\", \"自殺與憂鬱情緒句子\", \"有自殺行為的句子\", \"其他類型的句子\"]\n",
    "description = label_list\n",
    "sentences_list = []\n",
    "max_len = 0 \n",
    "for idx, row in df.iterrows():\n",
    "    sentence_dict = {}\n",
    "    sentence_dict[\"content\"] = str(row[\"Sentence\"])\n",
    "    if len(sentence_dict[\"content\"]) > max_len:\n",
    "        max_len = len(sentence_dict[\"content\"])\n",
    "    for id, label in enumerate(label_list):\n",
    "        if row[label] == 1:\n",
    "            sentence_dict[\"summary\"] = description[id].encode('utf-8', errors='ignore').decode('utf-8')\n",
    "            break\n",
    "    sentences_list.append(sentence_dict)\n",
    "print(max_len)\n",
    "# Shuffle the data\n",
    "\n",
    "random.seed(1)\n",
    "random.shuffle(sentences_list)\n",
    "pprint(sentences_list[:5])\n",
    "\n",
    "\n",
    "\n",
    "    "
   ]
  },
  {
   "cell_type": "code",
   "execution_count": 4,
   "metadata": {},
   "outputs": [],
   "source": [
    "# output the data to csv file\n",
    "import csv\n",
    "with open('ChatGLM/ptuning_v2/new_clean_data_partial_120_test.csv', 'w', newline='', encoding='utf-8') as csvfile:  \n",
    "    # creating a csv writer object  \n",
    "    csvwriter = csv.writer(csvfile)  \n",
    "    # writing the fields  \n",
    "    csvwriter.writerow([\"content\", \"summary\"])  \n",
    "    # writing the data rows  \n",
    "    csvwriter.writerows([[sentence[\"content\"], sentence[\"summary\"]] for sentence in sentences_list])\n",
    "\n",
    "\n"
   ]
  },
  {
   "cell_type": "code",
   "execution_count": 2,
   "metadata": {},
   "outputs": [],
   "source": [
    "# write the list of dict to a json file\n",
    "import json\n",
    "with open(\"ChatGLM/ptuning_v2/Sentences_data/test_sentences_120.json\", \"w\",  encoding='utf-8') as f:\n",
    "    for dict in sentences_list:\n",
    "        # 使用 json.dump() 方法將 dict 寫入到檔案中\n",
    "        # dict['summary'] = dict['summary'].encode('utf-8', errors='ignore').decode('utf-8')\n",
    "        json.dump(dict, f,  ensure_ascii=False)\n",
    "        # 寫入一個換行符來區分不同的字典\n",
    "        f.write(\"\\n\")\n",
    "# with open(\"./train_sentences.json\", \"w\", encoding='utf-8') as f:\n",
    "#     json.dump(sentences_list, f)\n"
   ]
  }
 ],
 "metadata": {
  "kernelspec": {
   "display_name": "Python 3",
   "language": "python",
   "name": "python3"
  },
  "language_info": {
   "codemirror_mode": {
    "name": "ipython",
    "version": 3
   },
   "file_extension": ".py",
   "mimetype": "text/x-python",
   "name": "python",
   "nbconvert_exporter": "python",
   "pygments_lexer": "ipython3",
   "version": "3.10.12"
  },
  "orig_nbformat": 4
 },
 "nbformat": 4,
 "nbformat_minor": 2
}
